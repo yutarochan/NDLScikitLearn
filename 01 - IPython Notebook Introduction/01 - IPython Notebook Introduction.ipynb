{
 "metadata": {
  "name": "",
  "signature": "sha256:fe8121439178be4e83adf4bf0eadb2abb337ce1000fed2c52ff77c3e8d027a72"
 },
 "nbformat": 3,
 "nbformat_minor": 0,
 "worksheets": [
  {
   "cells": [
    {
     "cell_type": "markdown",
     "metadata": {},
     "source": [
      "# IPython Notebook Introduction\n",
      "IPython (or Interactive Python) Notebook is essentially a web browser based utility to let you write Python code as well as document (through using Markdown and LaTeX). The resources created for NDL will utilize IPython Notebook to teach the  implementation of all the Machine Learning algorithms in an interactive and engaging way. Furthermore, additional jumpstart resources will be provided so that you can utilize some of the powerful algorithms scikit-learn has to offer without the need of writing everything from scratch, all while working from the comfort of your browser. (Plans for Jumpstart Notebooks TBA).\n",
      "\n",
      "Before we get into learning the implementation behind of some of the algorithms, this tutorial will first cover some of the key basics of learning how to use IPython Notebook effectively. Let's get started!\n",
      "\n",
      "## Initializing IPython Notebook\n",
      "To initialize IPython Notebook, I assume that you have used the following command:\n",
      "    \n",
      "    ipython notebook\n",
      "    \n",
      "This command will open an IPython server from the current directory you are in, which will initialize a server on http://localhost:8888. This will open up a browser with the corresponding address, and you should see something like this. This is essentially a file explorer off the directory in which you spawned your IPython Notebook from. From here you can create a new IPython notebook or click on any existing ones you have in that directory.\n",
      "\n",
      "![](img/ipython_startpage.png)\n",
      "\n",
      "To close IPython Notebook, you can either do this by clicking on **File > Close and halt** or **Ctrl-C** from the terminal and will close the IPython instance. Although IPython Notebooks autosave your work, don't forget to constantly save your work everytime you make changes! (You can use Ctrl-S to Save)\n",
      "\n",
      "## Cells\n",
      "Within an IPython Notebook, all groups of *text (Markdown & LaTeX)* (such as this one in particular) or code are fundamentally structured in what are known as **cells**.\n",
      "\n",
      "Below this cell is a code cell. When single-clicking on a code cell, you can edit the code just as you would in any text editor or IDE. The real power of IPython comes into play as you can directly execute the Python code you have in your cell. **You can execute a particular cell by pressing *Ctrl-Enter* on a selected cell**. Give it a try below!"
     ]
    },
    {
     "cell_type": "code",
     "collapsed": true,
     "input": [
      "# Enter your first name inside the single quotes!\n",
      "myName = ''\n",
      "print 'Cool ' + myName + ', you\\'re now using IPython Notebook!'"
     ],
     "language": "python",
     "metadata": {},
     "outputs": [
      {
       "output_type": "stream",
       "stream": "stdout",
       "text": [
        "Cool , you're now using IPython Notebook!\n"
       ]
      }
     ],
     "prompt_number": 10
    },
    {
     "cell_type": "markdown",
     "metadata": {},
     "source": [
      "To create a new cell, you can use the key combination **Shift-Enter**. This will create a new code cell below the currently selected cell. As an exercise, try creating a new cell below this particular one and write a code snippet to print both your first name (using the `myName` variable declared above) and another variable for your last name.\n"
     ]
    },
    {
     "cell_type": "markdown",
     "metadata": {},
     "source": [
      "*Notice that variables declared in other cells can be utilized across other cells as well!*\n",
      "\n",
      "## Markdown\n",
      "The other component of what makes IPython Notebook powerful is the capability of using Markdown, a form of a markup language which allows you to automatically convert regular text into formatted HTML code. Using markdown you can create really nice and clean looking documentation, which is especially important when you are working with Data Science and other programming related projects.\n",
      "\n",
      "When creating a new cell, your cell is defaulted to a *code cell*. To change this to a Markdown cell, you can simply do this by pressing **Escape-Key+M**. You will notice that the number with the square brackets disappear, which indicates that you are now in Markdown mode. Give it a try!\n",
      "\n",
      "For learning how to use Markdown, you can read up more information about some of the neat features and syntax by going to the [Mastering Markdown](https://guides.github.com/features/mastering-markdown/) tutorial offered by Github.\n",
      "\n",
      "## LaTeX\n",
      "Other than being able to use Markdown to document your code and work using text, you can also add snippets of equations to your IPython Notebook using another type of markup language called **LaTeX**. LaTeX is often times used in academia for writing papers, but specializes in generating high-quality typesetting especially for equations and mathematical notation.\n",
      "\n",
      "To insert an equation you can either use `$ $` (single dollar signs) for inline equations like $x^2 + y^2 = z^2$ or use `$$ $$` (double dollar signs) for writing equations which are centered aligned on its own as such:\n",
      "\n",
      "$$RMSE = \\sqrt{\\dfrac{1}{2} \\sum_{i = 1}^{n}(y_j - \\hat{y}_j)^2}$$\n",
      "\n",
      "For more information on using LaTeX, you can try Googling for specific syntax or refer to using this [Wikibooks](https://en.wikibooks.org/wiki/LaTeX/Mathematics).\n",
      "\n",
      "## Conclusion & Resources\n",
      "Although we have only scratched the surface of what is capable of IPython Notebook, I think we have covered enough for you to be able to use for all subsequent tutorials. For more resources you can check out some the links below:\n",
      "\n",
      "* [IPython Notebook Official Website](http://ipython.org/notebook.html)\n",
      "* [IPython Notebook Documentation](http://ipython.readthedocs.org/en/stable/)"
     ]
    }
   ],
   "metadata": {}
  }
 ]
}